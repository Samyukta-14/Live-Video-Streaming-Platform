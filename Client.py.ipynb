{
 "cells": [
  {
   "cell_type": "code",
   "execution_count": null,
   "id": "polished-oliver",
   "metadata": {},
   "outputs": [],
   "source": [
    "import socket\n",
    "import cv2\n",
    "import pickle\n",
    "import struct"
   ]
  },
  {
   "cell_type": "code",
   "execution_count": null,
   "id": "underlying-assurance",
   "metadata": {},
   "outputs": [],
   "source": [
    "def connect_to_server(server_address, server_port):\n",
    "    client_socket = socket.socket(socket.AF_INET, socket.SOCK_STREAM)\n",
    "    client_socket.connect((host_ip, 10050)) #Replace host_ip with the host ip address\n",
    "    return client_socket\n",
    "\n",
    "def receive_video(client_socket):\n",
    "    data = b\"\"\n",
    "    payload_size = struct.calcsize(\"Q\")\n",
    "\n",
    "    while True:\n",
    "        while len(data) < payload_size:\n",
    "            packet = client_socket.recv(4096)\n",
    "            if not packet:\n",
    "                break\n",
    "            data += packet\n",
    "        packed_msg_size = data[:payload_size]\n",
    "        data = data[payload_size:]\n",
    "        msg_size = struct.unpack(\"Q\", packed_msg_size)[0]\n",
    "        \n",
    "        while len(data) < msg_size:\n",
    "            data += client_socket.recv(4096)\n",
    "        frame_data = data[:msg_size]\n",
    "        data = data[msg_size:]\n",
    "        frame = pickle.loads(frame_data)\n",
    "        \n",
    "        cv2.imshow(\"Received Video\", frame)\n",
    "        key = cv2.waitKey(10)\n",
    "        if key == 13: \n",
    "            break\n",
    "\n",
    "    cv2.destroyAllWindows()\n",
    "\n",
    "def main():\n",
    "    server_address =host_ip #Replace host_ip with the host ip address\n",
    "    server_port = 10050\n",
    "    client_socket = None\n",
    "    \n",
    "    try:\n",
    "        client_socket = connect_to_server(host_ip, 10050) #Replace host_ip with the host ip address\n",
    "        receive_video(client_socket)\n",
    "    except Exception as e:\n",
    "        print(\"An error occurred:\", str(e))\n",
    "    finally:\n",
    "        if client_socket:\n",
    "            client_socket.close()\n",
    "\n",
    "if __name__ == \"__main__\":\n",
    "    main()"
   ]
  }
 ],
 "metadata": {
  "kernelspec": {
   "display_name": "Python 3",
   "language": "python",
   "name": "python3"
  },
  "language_info": {
   "codemirror_mode": {
    "name": "ipython",
    "version": 3
   },
   "file_extension": ".py",
   "mimetype": "text/x-python",
   "name": "python",
   "nbconvert_exporter": "python",
   "pygments_lexer": "ipython3",
   "version": "3.10.2"
  }
 },
 "nbformat": 4,
 "nbformat_minor": 5
}
